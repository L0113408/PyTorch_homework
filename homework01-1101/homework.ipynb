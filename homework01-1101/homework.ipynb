{
 "cells": [
  {
   "cell_type": "markdown",
   "metadata": {},
   "source": [
    "# 基于词向量的英汉翻译——“火炬上的深度学习\"下第一次作业\n",
    "\n",
    "在这个作业中，你需要半独立地完成一个英文到中文的单词翻译器\n",
    "\n",
    "本文件是集智AI学园http://campus.swarma.org 出品的“火炬上的深度学习”第VI课的配套源代码"
   ]
  },
  {
   "cell_type": "code",
   "execution_count": 18,
   "metadata": {
    "collapsed": true
   },
   "outputs": [],
   "source": [
    "# 加载必要的程序包\n",
    "# PyTorch的程序包\n",
    "import torch\n",
    "from torch.autograd import Variable\n",
    "import torch.nn as nn\n",
    "import torch.nn.functional as F\n",
    "import torch.optim as optim\n",
    "\n",
    "# 数值运算和绘图的程序包\n",
    "import numpy as np\n",
    "import matplotlib.pyplot as plt\n",
    "import matplotlib\n",
    "\n",
    "\n",
    "# 加载机器学习的软件包，主要为了词向量的二维可视化\n",
    "from sklearn.decomposition import PCA\n",
    "\n",
    "#加载Word2Vec的软件包\n",
    "import gensim as gensim\n",
    "from gensim.models import Word2Vec\n",
    "from gensim.models.keyedvectors import KeyedVectors\n",
    "from gensim.models.word2vec import LineSentence\n",
    "\n",
    "#加载正则表达式处理的包\n",
    "import re\n",
    "\n",
    "#在Notebook界面能够直接显示图形\n",
    "%matplotlib inline"
   ]
  },
  {
   "cell_type": "markdown",
   "metadata": {},
   "source": [
    "## 第一步：加载词向量\n",
    "\n",
    "首先，让我们加载别人已经在大型语料库上训练好的词向量"
   ]
  },
  {
   "cell_type": "code",
   "execution_count": 19,
   "metadata": {},
   "outputs": [
    {
     "data": {
      "text/plain": [
       "1366130"
      ]
     },
     "execution_count": 19,
     "metadata": {},
     "output_type": "execute_result"
    }
   ],
   "source": [
    "# 加载中文词向量，下载地址为：链接：http://pan.baidu.com/s/1gePQAun 密码：kvtg\n",
    "# 该中文词向量库是由尹相志提供，训练语料来源为：微博、人民日报、上海热线、汽车之家等，包含1366130个词向量\n",
    "word_vectors = KeyedVectors.load_word2vec_format('vectors.bin', binary=True, unicode_errors='ignore')\n",
    "len(word_vectors.vocab)"
   ]
  },
  {
   "cell_type": "code",
   "execution_count": 37,
   "metadata": {},
   "outputs": [
    {
     "name": "stdout",
     "output_type": "stream",
     "text": [
      "400000\n"
     ]
    }
   ],
   "source": [
    "# 加载中文的词向量，下载地址为：http://nlp.stanford.edu/data/glove.6B.zip，解压后将glove.6B.100d.txt文件拷贝到与本notebook\n",
    "# 文件一致的文件夹洗面。\n",
    "f = open('glove.6B.100d.txt', 'r', encoding=\"utf8\")\n",
    "i = 1\n",
    "\n",
    "# 将英文的词向量都存入如下的字典中\n",
    "word_vectors_en = {}\n",
    "with open('glove.6B.100d.txt', encoding=\"utf8\") as f:\n",
    "    for line in f:\n",
    "        numbers = line.split()\n",
    "        word = numbers[0]\n",
    "        vectors = np.array([float(i) for i in numbers[1 : ]])\n",
    "        word_vectors_en[word] = vectors\n",
    "        i += 1\n",
    "print(len(word_vectors_en))"
   ]
  },
  {
   "cell_type": "code",
   "execution_count": 72,
   "metadata": {},
   "outputs": [],
   "source": [
    "# 用gensim打开glove词向量需要在向量的开头增加一行：所有的单词数 词向量的维度\n",
    "from sys import platform  \n",
    "#计算行数，就是单词数\n",
    "def getFileLineNums(filename):\n",
    "    f = open(filename, 'r', encoding=\"utf8\")\n",
    "    count = 0\n",
    "    for line in f:\n",
    "        count += 1\n",
    "    return count\n",
    "\n",
    "#Linux或者Windows下打开词向量文件，在开始增加一行\n",
    "def prepend_line(infile, outfile, line):\n",
    "    with open(infile, 'r', encoding=\"utf8\") as old:\n",
    "        with open(outfile, 'w', encoding=\"utf8\") as new:\n",
    "            new.write(str(line) + \"\\n\")\n",
    "            shutil.copyfileobj(old, new)\n",
    "\n",
    "def prepend_slow(infile, outfile, line):\n",
    "    with open(infile, 'r', encoding=\"utf8\") as fin:\n",
    "        with open(outfile, 'w', encoding=\"utf8\") as fout:\n",
    "            fout.write(line + \"\\n\")\n",
    "            for line in fin:\n",
    "                fout.write(line)\n",
    "\n",
    "def load(filename):\n",
    "    num_lines = getFileLineNums(filename)\n",
    "    gensim_file = 'glove_model.txt'\n",
    "    gensim_first_line = \"{} {}\".format(num_lines, 100)\n",
    "    # Prepends the line.\n",
    "    if platform == \"linux\" or platform == \"linux2\":\n",
    "        prepend_line(filename, gensim_file, gensim_first_line)\n",
    "    else:\n",
    "        prepend_slow(filename, gensim_file, gensim_first_line)\n",
    "\n",
    "    return KeyedVectors.load_word2vec_format(gensim_file, binary=False, unicode_errors='ignore', encoding=\"utf8\")\n",
    "\n",
    "#print(word_vectors_en['man']-word_vectors_en['woman'])\n",
    "#print(word_vectors_en['king']-word_vectors_en['queen'])\n",
    "#print((word_vectors_en['man']-word_vectors_en['woman'])-(word_vectors_en['king']-word_vectors_en['queen']))\n",
    "word2vectors_en = load('glove.6B.100d.txt')  "
   ]
  },
  {
   "cell_type": "code",
   "execution_count": 73,
   "metadata": {},
   "outputs": [
    {
     "name": "stdout",
     "output_type": "stream",
     "text": [
      "[('vi', 0.6533772349357605), ('prince', 0.632961630821228), ('vajiravudh', 0.616649866104126), ('coronation', 0.6091321706771851), ('monarch', 0.6082844734191895), ('throne', 0.5999543070793152), ('royal', 0.5951739549636841), ('majesty', 0.5917392373085022), ('kingdom', 0.5872225761413574), ('viii', 0.5812629461288452)]\n"
     ]
    }
   ],
   "source": [
    "words = word2vectors_en.most_similar(positive=['queen', 'king'], negative=['woman'])\n",
    "print(words)"
   ]
  },
  {
   "cell_type": "code",
   "execution_count": 74,
   "metadata": {},
   "outputs": [
    {
     "data": {
      "text/plain": [
       "[('monarch', 0.635038435459137),\n",
       " ('vajiravudh', 0.6271814107894897),\n",
       " ('coronation', 0.6246286034584045),\n",
       " ('throne', 0.6243641376495361),\n",
       " ('consort', 0.6042282581329346),\n",
       " ('vi', 0.5987071394920349),\n",
       " ('prince', 0.5955268740653992),\n",
       " ('willem-alexander', 0.5946522951126099),\n",
       " ('kamehameha', 0.5892873406410217),\n",
       " ('majesty', 0.5889682769775391)]"
      ]
     },
     "execution_count": 74,
     "metadata": {},
     "output_type": "execute_result"
    }
   ],
   "source": [
    "words = word2vectors_en.most_similar(positive=['queen', 'king'], negative=['man'])\n",
    "words"
   ]
  },
  {
   "cell_type": "code",
   "execution_count": 75,
   "metadata": {},
   "outputs": [
    {
     "name": "stdout",
     "output_type": "stream",
     "text": [
      "[('person', 0.6981415748596191), ('one', 0.6729063391685486), ('another', 0.6447906494140625), ('turned', 0.6333966255187988), ('a', 0.6322406530380249), ('black', 0.6271578669548035), ('victim', 0.623831033706665), ('boy', 0.6224839091300964), ('kind', 0.6202846765518188), ('every', 0.6172523498535156)]\n"
     ]
    }
   ],
   "source": [
    "words = word2vectors_en.most_similar(positive=['woman', 'man'], negative=['daughter'])\n",
    "print(words)"
   ]
  },
  {
   "cell_type": "code",
   "execution_count": 76,
   "metadata": {},
   "outputs": [
    {
     "data": {
      "text/plain": [
       "[('girl', 0.6836705207824707),\n",
       " ('person', 0.6761190295219421),\n",
       " ('one', 0.6295770406723022),\n",
       " ('every', 0.6173022985458374),\n",
       " ('victim', 0.6168228983879089),\n",
       " ('female', 0.6135560274124146),\n",
       " ('she', 0.6130416393280029),\n",
       " ('women', 0.611282229423523),\n",
       " ('men', 0.6108694672584534),\n",
       " ('black', 0.6103718876838684)]"
      ]
     },
     "execution_count": 76,
     "metadata": {},
     "output_type": "execute_result"
    }
   ],
   "source": [
    "words = word2vectors_en.most_similar(positive=['woman', 'man'], negative=['son'])\n",
    "words"
   ]
  },
  {
   "cell_type": "code",
   "execution_count": 69,
   "metadata": {},
   "outputs": [
    {
     "data": {
      "text/plain": [
       "0.83234941827580899"
      ]
     },
     "execution_count": 69,
     "metadata": {},
     "output_type": "execute_result"
    }
   ],
   "source": [
    "word2vectors_en.similarity(\"woman\", \"man\")\n"
   ]
  },
  {
   "cell_type": "markdown",
   "metadata": {},
   "source": [
    "## 第二步：可视化同一组意思词在两种不同语言的词向量中的相互位置关系"
   ]
  },
  {
   "cell_type": "code",
   "execution_count": 21,
   "metadata": {
    "collapsed": true
   },
   "outputs": [],
   "source": [
    "# 中文的一二三四五列表\n",
    "cn_list = {'一', '二', '三', '四', '五', '六', '七', '八', '九', '零'}\n",
    "# 阿拉伯数字的12345列表\n",
    "en_list = {'1', '2', '3', '4', '5', '6', '7', '8', '9', '0'}\n",
    "# 英文数字的列表\n",
    "en_list = {'one', 'two', 'three', 'four', 'five', 'six', 'seven', 'eight', 'nine', 'zero'}\n",
    "\n",
    "# 对应词向量都存入到列表中\n",
    "cn_vectors = []  #中文的词向量列表\n",
    "en_vectors = []  #英文的词向量列表\n",
    "for w in cn_list:\n",
    "    cn_vectors.append(word_vectors[w])\n",
    "for w in en_list:\n",
    "    en_vectors.append(word_vectors_en[w])\n",
    "\n",
    "# 将这些词向量统一转化为矩阵\n",
    "cn_vectors = np.array(cn_vectors)\n",
    "en_vectors = np.array(en_vectors)"
   ]
  },
  {
   "cell_type": "code",
   "execution_count": 22,
   "metadata": {},
   "outputs": [
    {
     "data": {
      "image/png": "[encoded data removed]",
      "text/plain": [
       "<matplotlib.figure.Figure at 0x8c81029198>"
      ]
     },
     "metadata": {},
     "output_type": "display_data"
    }
   ],
   "source": [
    "# 降维实现可视化\n",
    "X_reduced = PCA(n_components=2).fit_transform(cn_vectors)\n",
    "Y_reduced = PCA(n_components = 2).fit_transform(en_vectors)\n",
    "\n",
    "# 绘制所有单词向量的二维空间投影\n",
    "f, (ax1, ax2) = plt.subplots(1, 2, figsize = (10, 8))\n",
    "ax1.plot(X_reduced[:, 0], X_reduced[:, 1], 'o')\n",
    "ax2.plot(Y_reduced[:, 0], Y_reduced[:, 1], 'o')\n",
    "#zhfont1 = matplotlib.font_manager.FontProperties(fname='/Library/Fonts/华文仿宋.ttf', size=16)\n",
    "zhfont1 = matplotlib.font_manager.FontProperties(fname='C:/Windows/Fonts/simsun.ttc', size=16)\n",
    "for i, w in enumerate(cn_list):\n",
    "    ax1.text(X_reduced[i, 0], X_reduced[i, 1], w, fontproperties = zhfont1, alpha = 1)\n",
    "for i, w in enumerate(en_list):\n",
    "    ax2.text(Y_reduced[i, 0], Y_reduced[i, 1], w, alpha = 1)"
   ]
  },
  {
   "cell_type": "markdown",
   "metadata": {},
   "source": [
    "### 结论：可以看出，中文的一、二、等数字彼此之间的关系与英文的数字彼此之间的关系很类似"
   ]
  },
  {
   "cell_type": "code",
   "execution_count": 28,
   "metadata": {},
   "outputs": [],
   "source": [
    "# 中文动物列表\n",
    "# 北美野牛\n",
    "cn_list = {'马', '牛', '驴', '猫', '狗', '猫头鹰', '牦牛', '公牛', '牛犊', '天鹅'}\n",
    "# 英文动物列表\n",
    "# Bison Yak\n",
    "en_list = {'horse', 'cow', 'donkey', 'cat', 'dog', 'owl', 'yak', 'ox', 'calf', 'cygnus'}\n",
    "\n",
    "# 对应词向量都存入到列表中\n",
    "cn_vectors = []  #中文的词向量列表\n",
    "en_vectors = []  #英文的词向量列表\n",
    "for w in cn_list:\n",
    "    #print(word_vectors[w])\n",
    "    cn_vectors.append(word_vectors[w])\n",
    "for w in en_list:\n",
    "    #print(word_vectors_en[w])\n",
    "    en_vectors.append(word_vectors_en[w])\n",
    "\n",
    "# 将这些词向量统一转化为矩阵\n",
    "cn_vectors = np.array(cn_vectors)\n",
    "en_vectors = np.array(en_vectors)"
   ]
  },
  {
   "cell_type": "code",
   "execution_count": 29,
   "metadata": {},
   "outputs": [
    {
     "data": {
      "image/png": "[encoded data removed]",
      "text/plain": [
       "<matplotlib.figure.Figure at 0x8c810291d0>"
      ]
     },
     "metadata": {},
     "output_type": "display_data"
    }
   ],
   "source": [
    "# 降维实现可视化\n",
    "X_reduced = PCA(n_components=2).fit_transform(cn_vectors)\n",
    "Y_reduced = PCA(n_components = 2).fit_transform(en_vectors)\n",
    "\n",
    "# 绘制所有单词向量的二维空间投影\n",
    "f, (ax1, ax2) = plt.subplots(1, 2, figsize = (10, 8))\n",
    "ax1.plot(X_reduced[:, 0], X_reduced[:, 1], 'o')\n",
    "ax2.plot(Y_reduced[:, 0], Y_reduced[:, 1], 'o')\n",
    "#zhfont1 = matplotlib.font_manager.FontProperties(fname='/Library/Fonts/华文仿宋.ttf', size=16)\n",
    "zhfont1 = matplotlib.font_manager.FontProperties(fname='C:/Windows/Fonts/simsun.ttc', size=16)\n",
    "for i, w in enumerate(cn_list):\n",
    "    ax1.text(X_reduced[i, 0], X_reduced[i, 1], w, fontproperties = zhfont1, alpha = 1)\n",
    "for i, w in enumerate(en_list):\n",
    "    ax2.text(Y_reduced[i, 0], Y_reduced[i, 1], w, alpha = 1)"
   ]
  },
  {
   "cell_type": "code",
   "execution_count": 33,
   "metadata": {
    "collapsed": true
   },
   "outputs": [],
   "source": [
    "# 中文动物列表\n",
    "# 北美野牛\n",
    "cn_list = {'马', '牛', '驴', '羊', '山羊', '骡子', '牦牛', '公牛', '牛犊', '公羊'}\n",
    "# 英文动物列表\n",
    "# Bison Yak\n",
    "en_list = {'horse', 'cow', 'donkey', 'sheep', 'goat', 'mule', 'yak', 'ox', 'calf', 'ram'}\n",
    "\n",
    "# 对应词向量都存入到列表中\n",
    "cn_vectors = []  #中文的词向量列表\n",
    "en_vectors = []  #英文的词向量列表\n",
    "for w in cn_list:\n",
    "    #print(word_vectors[w])\n",
    "    cn_vectors.append(word_vectors[w])\n",
    "for w in en_list:\n",
    "    #print(word_vectors_en[w])\n",
    "    en_vectors.append(word_vectors_en[w])\n",
    "\n",
    "# 将这些词向量统一转化为矩阵\n",
    "cn_vectors = np.array(cn_vectors)\n",
    "en_vectors = np.array(en_vectors)"
   ]
  },
  {
   "cell_type": "code",
   "execution_count": 34,
   "metadata": {},
   "outputs": [
    {
     "data": {
      "image/png": "[encoded data removed]",
      "text/plain": [
       "<matplotlib.figure.Figure at 0x8c81348048>"
      ]
     },
     "metadata": {},
     "output_type": "display_data"
    }
   ],
   "source": [
    "# 降维实现可视化\n",
    "X_reduced = PCA(n_components=2).fit_transform(cn_vectors)\n",
    "Y_reduced = PCA(n_components = 2).fit_transform(en_vectors)\n",
    "\n",
    "# 绘制所有单词向量的二维空间投影\n",
    "f, (ax1, ax2) = plt.subplots(1, 2, figsize = (10, 8))\n",
    "ax1.plot(X_reduced[:, 0], X_reduced[:, 1], 'o')\n",
    "ax2.plot(Y_reduced[:, 0], Y_reduced[:, 1], 'o')\n",
    "#zhfont1 = matplotlib.font_manager.FontProperties(fname='/Library/Fonts/华文仿宋.ttf', size=16)\n",
    "zhfont1 = matplotlib.font_manager.FontProperties(fname='C:/Windows/Fonts/simsun.ttc', size=16)\n",
    "for i, w in enumerate(cn_list):\n",
    "    ax1.text(X_reduced[i, 0], X_reduced[i, 1], w, fontproperties = zhfont1, alpha = 1)\n",
    "for i, w in enumerate(en_list):\n",
    "    ax2.text(Y_reduced[i, 0], Y_reduced[i, 1], w, alpha = 1)"
   ]
  },
  {
   "cell_type": "markdown",
   "metadata": {},
   "source": [
    "## 第三步：训练一个神经网络，输入一个英文单词的词向量，输出一个中文的词向量，并翻译为中文"
   ]
  },
  {
   "cell_type": "code",
   "execution_count": null,
   "metadata": {
    "collapsed": true
   },
   "outputs": [],
   "source": []
  },
  {
   "cell_type": "markdown",
   "metadata": {},
   "source": [
    "首先，读入一个已经建立好的词典（dictionary.txt）。本词典是老师调用百度翻译的API，自动将一篇英文小说中的词汇逐个翻译为中文而得来的\n",
    "\n",
    "我们一个个地载入词典，并查找对应的中文词向量，如果找得到，则放入original_words中，做为正式的训练集"
   ]
  },
  {
   "cell_type": "code",
   "execution_count": 7,
   "metadata": {},
   "outputs": [
    {
     "name": "stdout",
     "output_type": "stream",
     "text": [
      "4962\n"
     ]
    }
   ],
   "source": [
    "original_words = []\n",
    "with open('dictionary.txt', 'r', encoding=\"utf8\") as f:\n",
    "    dataset = []\n",
    "    for line in f:\n",
    "        itm = line.split('\\t')\n",
    "        eng = itm[0]\n",
    "        chn = itm[1].strip()\n",
    "        if eng in word_vectors_en and chn in word_vectors:\n",
    "            data = word_vectors_en[eng]\n",
    "            target = word_vectors[chn]\n",
    "            # 将中英文词对做成数据集\n",
    "            dataset.append([data, target])\n",
    "            original_words.append([eng, chn])\n",
    "print(len(dataset)) # 共有4962个单词做为总的数据集合"
   ]
  },
  {
   "cell_type": "code",
   "execution_count": 8,
   "metadata": {
    "collapsed": true
   },
   "outputs": [],
   "source": [
    "# 建立训练集、测试集和校验集\n",
    "# 训练集用来训练神经网络，更改网络的参数；校验集用来判断网络模型是否过拟合：当校验集的损失数值超过训练集的时候，即为过拟合\n",
    "# 测试集用来检验模型的好坏\n",
    "indx = np.random.permutation(range(len(dataset)))\n",
    "dataset = [dataset[i] for i in indx]\n",
    "original_words = [original_words[i] for i in indx]\n",
    "train_size = 500\n",
    "train_data = dataset[train_size:]\n",
    "valid_data = dataset[train_size // 2 : train_size]\n",
    "test_data = dataset[: train_size // 2]\n",
    "test_words = original_words[: train_size // 2]\n"
   ]
  },
  {
   "cell_type": "code",
   "execution_count": 13,
   "metadata": {
    "scrolled": true
   },
   "outputs": [
    {
     "name": "stdout",
     "output_type": "stream",
     "text": [
      "0轮，训练Loss: 8.75, 校验Loss: 8.42\n",
      "1轮，训练Loss: 8.31, 校验Loss: 8.09\n",
      "2轮，训练Loss: 8.07, 校验Loss: 7.90\n",
      "3轮，训练Loss: 7.93, 校验Loss: 7.78\n",
      "4轮，训练Loss: 7.82, 校验Loss: 7.69\n",
      "5轮，训练Loss: 7.74, 校验Loss: 7.62\n",
      "6轮，训练Loss: 7.67, 校验Loss: 7.56\n",
      "7轮，训练Loss: 7.61, 校验Loss: 7.51\n",
      "8轮，训练Loss: 7.56, 校验Loss: 7.46\n",
      "9轮，训练Loss: 7.52, 校验Loss: 7.43\n",
      "10轮，训练Loss: 7.48, 校验Loss: 7.40\n",
      "11轮，训练Loss: 7.45, 校验Loss: 7.37\n",
      "12轮，训练Loss: 7.42, 校验Loss: 7.35\n",
      "13轮，训练Loss: 7.39, 校验Loss: 7.32\n",
      "14轮，训练Loss: 7.37, 校验Loss: 7.30\n",
      "15轮，训练Loss: 7.35, 校验Loss: 7.29\n",
      "16轮，训练Loss: 7.33, 校验Loss: 7.27\n",
      "17轮，训练Loss: 7.31, 校验Loss: 7.25\n",
      "18轮，训练Loss: 7.29, 校验Loss: 7.24\n",
      "19轮，训练Loss: 7.27, 校验Loss: 7.23\n",
      "20轮，训练Loss: 7.26, 校验Loss: 7.22\n",
      "21轮，训练Loss: 7.24, 校验Loss: 7.20\n",
      "22轮，训练Loss: 7.23, 校验Loss: 7.19\n",
      "23轮，训练Loss: 7.22, 校验Loss: 7.18\n",
      "24轮，训练Loss: 7.21, 校验Loss: 7.18\n",
      "25轮，训练Loss: 7.19, 校验Loss: 7.17\n",
      "26轮，训练Loss: 7.18, 校验Loss: 7.16\n",
      "27轮，训练Loss: 7.17, 校验Loss: 7.15\n",
      "28轮，训练Loss: 7.16, 校验Loss: 7.14\n",
      "29轮，训练Loss: 7.16, 校验Loss: 7.14\n",
      "30轮，训练Loss: 7.15, 校验Loss: 7.13\n",
      "31轮，训练Loss: 7.14, 校验Loss: 7.13\n",
      "32轮，训练Loss: 7.13, 校验Loss: 7.12\n",
      "33轮，训练Loss: 7.12, 校验Loss: 7.12\n",
      "34轮，训练Loss: 7.12, 校验Loss: 7.11\n",
      "35轮，训练Loss: 7.11, 校验Loss: 7.11\n",
      "36轮，训练Loss: 7.10, 校验Loss: 7.10\n",
      "37轮，训练Loss: 7.10, 校验Loss: 7.10\n",
      "38轮，训练Loss: 7.09, 校验Loss: 7.09\n",
      "39轮，训练Loss: 7.09, 校验Loss: 7.09\n",
      "40轮，训练Loss: 7.08, 校验Loss: 7.09\n",
      "41轮，训练Loss: 7.08, 校验Loss: 7.09\n",
      "42轮，训练Loss: 7.07, 校验Loss: 7.08\n",
      "43轮，训练Loss: 7.07, 校验Loss: 7.08\n",
      "44轮，训练Loss: 7.07, 校验Loss: 7.08\n",
      "45轮，训练Loss: 7.06, 校验Loss: 7.07\n",
      "46轮，训练Loss: 7.06, 校验Loss: 7.07\n",
      "47轮，训练Loss: 7.06, 校验Loss: 7.07\n",
      "48轮，训练Loss: 7.05, 校验Loss: 7.07\n",
      "49轮，训练Loss: 7.05, 校验Loss: 7.07\n",
      "50轮，训练Loss: 7.05, 校验Loss: 7.06\n",
      "51轮，训练Loss: 7.04, 校验Loss: 7.06\n",
      "52轮，训练Loss: 7.04, 校验Loss: 7.06\n",
      "53轮，训练Loss: 7.04, 校验Loss: 7.06\n",
      "54轮，训练Loss: 7.03, 校验Loss: 7.06\n",
      "55轮，训练Loss: 7.03, 校验Loss: 7.06\n",
      "56轮，训练Loss: 7.03, 校验Loss: 7.06\n",
      "57轮，训练Loss: 7.03, 校验Loss: 7.05\n",
      "58轮，训练Loss: 7.03, 校验Loss: 7.05\n",
      "59轮，训练Loss: 7.02, 校验Loss: 7.05\n",
      "60轮，训练Loss: 7.02, 校验Loss: 7.05\n",
      "61轮，训练Loss: 7.02, 校验Loss: 7.05\n",
      "62轮，训练Loss: 7.02, 校验Loss: 7.05\n",
      "63轮，训练Loss: 7.02, 校验Loss: 7.05\n",
      "64轮，训练Loss: 7.01, 校验Loss: 7.05\n",
      "65轮，训练Loss: 7.01, 校验Loss: 7.05\n",
      "66轮，训练Loss: 7.01, 校验Loss: 7.05\n",
      "67轮，训练Loss: 7.01, 校验Loss: 7.05\n",
      "68轮，训练Loss: 7.01, 校验Loss: 7.05\n",
      "69轮，训练Loss: 7.01, 校验Loss: 7.04\n",
      "70轮，训练Loss: 7.01, 校验Loss: 7.04\n",
      "71轮，训练Loss: 7.00, 校验Loss: 7.04\n",
      "72轮，训练Loss: 7.00, 校验Loss: 7.04\n",
      "73轮，训练Loss: 7.00, 校验Loss: 7.04\n",
      "74轮，训练Loss: 7.00, 校验Loss: 7.04\n",
      "75轮，训练Loss: 7.00, 校验Loss: 7.04\n",
      "76轮，训练Loss: 7.00, 校验Loss: 7.04\n",
      "77轮，训练Loss: 7.00, 校验Loss: 7.04\n",
      "78轮，训练Loss: 7.00, 校验Loss: 7.04\n",
      "79轮，训练Loss: 6.99, 校验Loss: 7.04\n",
      "80轮，训练Loss: 6.99, 校验Loss: 7.04\n",
      "81轮，训练Loss: 6.99, 校验Loss: 7.04\n",
      "82轮，训练Loss: 6.99, 校验Loss: 7.04\n",
      "83轮，训练Loss: 6.99, 校验Loss: 7.04\n",
      "84轮，训练Loss: 6.99, 校验Loss: 7.04\n",
      "85轮，训练Loss: 6.99, 校验Loss: 7.04\n",
      "86轮，训练Loss: 6.99, 校验Loss: 7.04\n",
      "87轮，训练Loss: 6.99, 校验Loss: 7.04\n",
      "88轮，训练Loss: 6.99, 校验Loss: 7.04\n",
      "89轮，训练Loss: 6.98, 校验Loss: 7.04\n",
      "90轮，训练Loss: 6.98, 校验Loss: 7.04\n",
      "91轮，训练Loss: 6.98, 校验Loss: 7.04\n",
      "92轮，训练Loss: 6.98, 校验Loss: 7.04\n",
      "93轮，训练Loss: 6.98, 校验Loss: 7.04\n",
      "94轮，训练Loss: 6.98, 校验Loss: 7.03\n",
      "95轮，训练Loss: 6.98, 校验Loss: 7.03\n",
      "96轮，训练Loss: 6.98, 校验Loss: 7.03\n",
      "97轮，训练Loss: 6.98, 校验Loss: 7.03\n",
      "98轮，训练Loss: 6.98, 校验Loss: 7.03\n",
      "99轮，训练Loss: 6.98, 校验Loss: 7.03\n"
     ]
    }
   ],
   "source": [
    "# 开始训练一个多层神经网络，将一个100维度的英文向量映射为200维度的中文词向量，隐含层节点为30\n",
    "\n",
    "input_size = 100\n",
    "output_size = 200\n",
    "hidden_size = 30\n",
    "\n",
    "# 新建一个神经网络，包含一个隐含层\n",
    "model = nn.Sequential(nn.Linear(input_size, hidden_size),\n",
    "                     nn.Tanh(),\n",
    "                     nn.Linear(hidden_size, output_size)\n",
    "                     )\n",
    "\n",
    "# 构造损失函数\n",
    "criterion = torch.nn.MSELoss()\n",
    "\n",
    "# 构造优化器\n",
    "optimizer = torch.optim.Adam(model.parameters(), lr = 0.0001)\n",
    "\n",
    "# 总的循环周期\n",
    "num_epoch = 100\n",
    "\n",
    "\n",
    "#开始训练500次，每次对所有的数据都做循环\n",
    "results = []\n",
    "for epoch in range(num_epoch):\n",
    "    train_loss = []\n",
    "    for data in train_data:\n",
    "        #print(data)\n",
    "        # 读入数据\n",
    "        x = Variable(torch.FloatTensor(data[0])).unsqueeze(0)\n",
    "        y = Variable(torch.FloatTensor(data[1])).unsqueeze(0)\n",
    "        # 模型预测\n",
    "        output = model(x)\n",
    "        \n",
    "        # 反向传播算法训练\n",
    "        optimizer.zero_grad()\n",
    "        loss = criterion(output, y)\n",
    "        train_loss.append(loss.data.numpy()[0])\n",
    "        loss.backward()\n",
    "        optimizer.step()\n",
    "    # 在校验集上测试一下效果\n",
    "    valid_loss = []\n",
    "    for data in valid_data:\n",
    "        data\n",
    "        x = Variable(torch.FloatTensor(data[0])).unsqueeze(0)\n",
    "        y = Variable(torch.FloatTensor(data[1])).unsqueeze(0)\n",
    "        output = model(x)\n",
    "        loss = criterion(output, y)\n",
    "        valid_loss.append(loss.data.numpy()[0])\n",
    "    results.append([np.mean(train_loss), np.mean(valid_loss)])\n",
    "    print('{}轮，训练Loss: {:.2f}, 校验Loss: {:.2f}'.format(epoch, np.mean(train_loss), np.mean(valid_loss)))\n"
   ]
  },
  {
   "cell_type": "code",
   "execution_count": 14,
   "metadata": {},
   "outputs": [
    {
     "data": {
      "text/plain": [
       "<matplotlib.legend.Legend at 0x8c84db0ba8>"
      ]
     },
     "execution_count": 14,
     "metadata": {},
     "output_type": "execute_result"
    },
    {
     "data": {
      "image/png": "[encoded data removed]",
      "text/plain": [
       "<matplotlib.figure.Figure at 0x8c84560e48>"
      ]
     },
     "metadata": {},
     "output_type": "display_data"
    }
   ],
   "source": [
    "# 绘制图形\n",
    "a = [i[0] for i in results]\n",
    "b = [i[1] for i in results]\n",
    "plt.plot(a, 'o', label = 'Training Loss')\n",
    "plt.plot(b, 's', label = 'Validation Loss')\n",
    "plt.xlabel('Epoch')\n",
    "plt.ylabel('Loss Function')\n",
    "plt.legend()"
   ]
  },
  {
   "cell_type": "code",
   "execution_count": 16,
   "metadata": {},
   "outputs": [
    {
     "name": "stdout",
     "output_type": "stream",
     "text": [
      "精确匹配率：0.10\n",
      "一字匹配率：0.20\n",
      "[['像', '其实'], ['西装', '领带'], ['体积', '新增'], ['搓', '用力'], ['成长', '退化'], ['天空', '天空'], ['绑定', '降落伞'], ['吟诵', '听'], ['啊', '知道'], ['冯', '诺曼'], ['斜眼', '看到'], ['木乃伊', '木乃伊'], ['发呆', '欢乐'], ['电锯', '盾牌'], ['记忆', '神经元'], ['脆', '羽毛'], ['检查', '研究'], ['枯萎', '退化'], ['路径', '路径'], ['不断', '总是'], ['翻转', '拧'], ['拍', '扶住'], ['槽', '模块'], ['铆接', '激愤'], ['无味', '恶心'], ['下', '本身'], ['被', '因为'], ['哦', '啊'], ['学士', '英国剑桥大学'], ['手工', '邪恶'], ['迫害', '激怒'], ['等', '回家'], ['子弹', '钩子'], ['果断', '反抗'], ['银屑病', '毛发'], ['咀嚼', '咬'], ['得', '我'], ['聪明', '笨拙'], ['抱', '抱起'], ['可能', '因为'], ['服', '手套'], ['服装', '头饰'], ['目前', '建构'], ['小', '大小不一'], ['痒', '伤口'], ['后果', '可能'], ['量', '也就是说'], ['比赛', '比赛'], ['原', '原型'], ['避免', '避免'], ['毒', '毒药'], ['时钟', '按钮'], ['感觉到', '也许'], ['劳伦斯', '生物学家'], ['匆匆', '起身'], ['提高', '有效地'], ['解决', '问题'], ['无聊', '害怕'], ['你', '说'], ['女人', '她'], ['吸尘', '粘'], ['梦', '梦想'], ['突击队', '小队'], ['巴克', '兔子'], ['饿死', '死去'], ['咀嚼', '肉'], ['菜', '水果'], ['驱动', '滑行'], ['识别', '识别'], ['疲劳', '转头'], ['律师', '拒绝'], ['辣妹', '那只'], ['陌生人', '她'], ['窗帘', '墙壁'], ['甲', '颤动'], ['侦探', '间谍'], ['附近', '居民区'], ['鲸鱼', '蜥蜴'], ['巴伐利亚', '法国'], ['雕像', '巨型'], ['录音机', '控制台'], ['更新', '协议'], ['嗯', 'tm'], ['时间', '时间'], ['沉没', '截断'], ['必须', '……'], ['巨石', '石块'], ['进展', '进步'], ['检查', '研究'], ['鱼子酱', '水果'], ['你', '想'], ['盛宴', '团子'], ['七', '20'], ['进一步', '调整'], ['室', '客房'], ['紧张不安', '不安'], ['下面', '挡板'], ['说', '说'], ['同意', '说服'], ['突然', '停顿'], ['腐蚀', '腐蚀'], ['项目', '配件'], ['希望', '希望'], ['松开', '用力'], ['肯定', '因为'], ['嘶嘶', '大叫'], ['皱', '惊恐'], ['加勒比', '夏威夷'], ['拉斯维加斯', '亚特兰蒂斯'], ['口', '舌头'], ['毛巾', '擦'], ['75', '40'], ['植被', '风化'], ['蓝莓', '菠萝'], ['林下', '沙土'], ['女士们', '太太'], ['新', '商务'], ['吸引力', '看重'], ['英雄', '恶魔'], ['垃圾', '堆放'], ['指令', '步骤'], ['启动', '钉'], ['体育场', '场馆'], ['阿拉伯人', '蔑视'], ['走', '爬'], ['我们', '想'], ['满意', '合理'], ['认为', '或者说'], ['浆果', '巧克力'], ['缓解', '稳定'], ['掠夺', '毁坏'], ['舞者', '舞者'], ['白', '花纹'], ['快速', '跑起来'], ['火', '炸毁'], ['固定', '惊恐'], ['会话', '间歇'], ['赫斯顿', '塞西尔'], ['电器', '钻出'], ['假装', '害怕'], ['00', '10'], ['颤抖', '蜷缩'], ['丝袜', '衣服'], ['受害者', '受害者'], ['地', '射击'], ['每', '平均'], ['刷', '倒'], ['继续', '停滞'], ['黑客', '黑客'], ['战术', '系统'], ['鬣蜥', '蜥蜴'], ['成员', '军官'], ['否则', '即使'], ['安静', '安静'], ['夏天', '傍晚'], ['喊', '大喊'], ['正', '判断'], ['研究员', '他'], ['超越', '或者说'], ['赞许', '回答'], ['单独', '只有'], ['雕像', '巨型'], ['帽', '外罩'], ['412', '1'], ['石', '岩'], ['握紧', '颤抖'], ['如果', '如果'], ['西红柿', '蜂蜜'], ['手电筒', '对讲机'], ['页', '批注'], ['是', '野兽'], ['笑话', '她'], ['哦', '该死'], ['迅速', '配合'], ['周围', '散落'], ['解体', '瓦解'], ['霜', '巧克力'], ['呼吸', '学习'], ['来', '时候'], ['谋杀', '自杀'], ['打', '跳'], ['弗兰克', '约翰'], ['前', '挡板'], ['今天', '谈论'], ['网络', '应用'], ['集', '离奇'], ['生物', '蜥蜴'], ['遐想', '悲伤'], ['救济', '物资'], ['032', '3'], ['恨', '侮辱'], ['在', '可能'], ['同情', '同情'], ['脆弱', '脆弱'], ['斯塔克', '冷峻'], ['喜欢', '所以'], ['封闭', '关闭'], ['翻找', '钻进'], ['武器', '武器'], ['中断', '中断'], ['闪耀', '光亮'], ['过程', '固化'], ['苦恼', '告诉他'], ['教条', '理解'], ['完成', '完成'], ['迷茫', '颤抖'], ['妈妈', '我'], ['警察', '警察'], ['球员', '对手'], ['房源', '查询'], ['打印', '贴纸'], ['笔', '耳朵'], ['耳机', '麦克风'], ['重复', '生硬'], ['擦', '消失'], ['四', '呼唤'], ['掠过', '摇动'], ['关闭', '倒'], ['66', '34'], ['跳', '跳'], ['可能', '可能'], ['曼宁', '拦截'], ['野蛮', '邪恶'], ['田园', '多姿多彩'], ['起来', '翻动'], ['头', '把手'], ['正常', '正常'], ['提供', '发给'], ['机械', '部件'], ['精神病学', '生物学'], ['和', '金额'], ['500', '50'], ['连续', '结构'], ['胸', '密封'], ['花格', '顶盖'], ['保持', '保证'], ['点', '小孔'], ['进行', '决定'], ['土地', '砍伐'], ['建筑', '建筑'], ['饥饿', '死亡'], ['交叉', '越过'], ['诗句', '朗读'], ['不知所云', '敷衍'], ['制服', '迷彩'], ['盾牌', '盾牌'], ['漂移', '俯冲'], ['交谈', '听'], ['隆隆', '冲向'], ['应该', '白色']]\n"
     ]
    }
   ],
   "source": [
    "# 在测试集上验证准确度\n",
    "# 检验标准有两个：一个是直接用预测的词和标准答案做全词匹配；另一个是做单字的匹配\n",
    "exact_same = 0  #全词匹配数量\n",
    "one_same = 0 #单字匹配数量\n",
    "results = []\n",
    "for i, data in enumerate(test_data):\n",
    "    x = Variable(torch.FloatTensor(data[0])).unsqueeze(0)\n",
    "    # 给出模型的输出\n",
    "    output = model(x)\n",
    "    output = output.squeeze().data.numpy()\n",
    "    # 从中文词向量中找到与输出向量最相似的向量\n",
    "    most_similar = word_vectors.wv.similar_by_vector(output, 1)\n",
    "    # 将标准答案中的词与最相似的向量所对应的词打印出来\n",
    "    results.append([original_words[i][1], most_similar[0][0]])\n",
    "    \n",
    "    # 全词匹配\n",
    "    if original_words[i][1] == most_similar[0][0]:\n",
    "        exact_same += 1\n",
    "    # 某一个字匹配\n",
    "    if list(set(list(original_words[i][1])) & set(list(most_similar[0][0]))) != []:\n",
    "        one_same += 1\n",
    "    \n",
    "print(\"精确匹配率：{:.2f}\".format(1.0 * exact_same / len(test_data)))\n",
    "print('一字匹配率：{:.2f}'.format(1.0 * one_same / len(test_data)))\n",
    "print(results)"
   ]
  },
  {
   "cell_type": "code",
   "execution_count": null,
   "metadata": {
    "collapsed": true
   },
   "outputs": [],
   "source": []
  }
 ],
 "metadata": {
  "kernelspec": {
   "display_name": "Python 3",
   "language": "python",
   "name": "python3"
  },
  "language_info": {
   "codemirror_mode": {
    "name": "ipython",
    "version": 3
   },
   "file_extension": ".py",
   "mimetype": "text/x-python",
   "name": "python",
   "nbconvert_exporter": "python",
   "pygments_lexer": "ipython3",
   "version": "3.6.1"
  }
 },
 "nbformat": 4,
 "nbformat_minor": 2
}
